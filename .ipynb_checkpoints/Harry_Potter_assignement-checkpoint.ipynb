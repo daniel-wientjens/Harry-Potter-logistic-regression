{
 "cells": [
  {
   "cell_type": "markdown",
   "metadata": {},
   "source": [
    "# Harry Potter Housing with Logistical Regression"
   ]
  },
  {
   "cell_type": "code",
   "execution_count": null,
   "metadata": {},
   "outputs": [],
   "source": [
    "#Attempt to open data using csv\n",
    "import csv\n",
    "import numpy as np\n",
    "with open(\"resources/dataset_train.csv\",'r') as dest_f:\n",
    "    data_iter = csv.reader(dest_f,\n",
    "                           delimiter = \",\",\n",
    "                           quotechar = '\"')\n",
    "    next(data_iter)\n",
    "    data = [data for data in data_iter]\n",
    "data_train = np.asarray(data, dtype = None)\n",
    "\n",
    "\n",
    "with open(\"resources/dataset_test.csv\",'r') as dest_f:\n",
    "    data_iter = csv.reader(dest_f,\n",
    "                           delimiter = \",\",\n",
    "                           quotechar = '\"')\n",
    "    next(data_iter)\n",
    "    data = [data for data in data_iter]\n",
    "data_test = np.asarray(data, dtype = None)"
   ]
  },
  {
   "cell_type": "markdown",
   "metadata": {},
   "source": [
    "# Data Analysis V1"
   ]
  },
  {
   "cell_type": "markdown",
   "metadata": {},
   "source": [
    "Q1. Make a describe function which takes a dataset as input and outputs the count, mean, max, min, std, 25th percentile, 50th percentile, 75th percentile for all numerical features. Without using the corresponding functions.."
   ]
  },
  {
   "cell_type": "code",
   "execution_count": null,
   "metadata": {
    "scrolled": true
   },
   "outputs": [],
   "source": [
    "def describe_function(data):\n",
    "    import numpy as np\n",
    "    import math\n",
    "\n",
    "    np.warnings.filterwarnings('ignore')\n",
    "    \n",
    "    def describe_count(data,column):\n",
    "        count = 0\n",
    "        for row in data[:,column]:\n",
    "            if math.isnan(row):\n",
    "                continue\n",
    "            else:\n",
    "                count += 1\n",
    "        return(count)\n",
    "\n",
    "    def describe_mean(data,column):\n",
    "        count = 0\n",
    "        total_sum = 0\n",
    "        for row in data[:,column]:\n",
    "            if math.isnan(row):\n",
    "                continue\n",
    "            else:\n",
    "                count += 1\n",
    "                total_sum += row\n",
    "        mean = total_sum/count\n",
    "        return(mean)\n",
    "\n",
    "    def describe_max(data,column):\n",
    "        max_saved = data[0,column]\n",
    "        for row in data[:,column]:\n",
    "            if math.isnan(row):\n",
    "                continue\n",
    "            else:\n",
    "                if row >= max_saved:\n",
    "                    max_saved = row\n",
    "                else:\n",
    "                    continue\n",
    "        return(max_saved)\n",
    "\n",
    "    def describe_min(data,column):\n",
    "        min_saved = data[0,column]\n",
    "        for row in data[:,column]:\n",
    "            if math.isnan(row):\n",
    "                continue\n",
    "            else:\n",
    "                if row <= min_saved:\n",
    "                    min_saved = row\n",
    "                else:\n",
    "                    continue\n",
    "        return(min_saved)\n",
    "\n",
    "\n",
    "    # assume whole population\n",
    "    def describe_std(data,column):\n",
    "        sample_mean = float(describe_mean(data,column))\n",
    "        total_variance=float(0)\n",
    "        count=float(0)\n",
    "        for row in data[:,column]:\n",
    "            if math.isnan(row):\n",
    "                continue\n",
    "            else:\n",
    "                count += 1\n",
    "                total_variance+= math.pow((row-sample_mean),2)\n",
    "        std = math.sqrt(total_variance/(count))\n",
    "        return(std)\n",
    "\n",
    "    def describe_perc25(data,column):\n",
    "        sort = sorted(data[:,0])\n",
    "        length = len(data[:,0])\n",
    "        pick = int((25/100)*length)\n",
    "        percentage = sort[pick]\n",
    "        return(percentage)\n",
    "\n",
    "    def describe_perc50(data,column):\n",
    "        sort = sorted(data[:,0])\n",
    "        length = len(data[:,0])\n",
    "        pick = int((50/100)*length)\n",
    "        percentage = sort[pick]\n",
    "        return(percentage)\n",
    "\n",
    "    def describe_perc75(data,column):\n",
    "        sort = sorted(data[:,0])\n",
    "        length = len(data[:,0])\n",
    "        pick = int((75/100)*length)\n",
    "        percentage = sort[pick]\n",
    "        return(percentage)\n",
    "    \n",
    "    mean = np.zeros(data.shape[1])\n",
    "    for i in range(0,data.shape[1]):\n",
    "        try:\n",
    "            mean[i] = describe_mean(data,i)\n",
    "        except ZeroDivisionError: \n",
    "            mean[i] = 0\n",
    "\n",
    "    count = np.zeros(data.shape[1])\n",
    "    for i in range(0,data.shape[1]):\n",
    "        try:\n",
    "            count[i] = describe_count(data,i)\n",
    "        except ZeroDivisionError: \n",
    "            count[i] = 0\n",
    "\n",
    "    std = np.zeros(data.shape[1])\n",
    "    for i in range(0,data.shape[1]):\n",
    "        try:\n",
    "            std[i] = describe_std(data,i)\n",
    "        except ZeroDivisionError: \n",
    "            std[i] = 0\n",
    "\n",
    "    minimum = np.zeros(data.shape[1])\n",
    "    for i in range(0,data.shape[1]):\n",
    "        try:\n",
    "            minimum[i] = describe_min(data,i)\n",
    "        except ZeroDivisionError: \n",
    "            minnimum[i] = 0\n",
    "\n",
    "    maximum = np.zeros(data.shape[1])\n",
    "    for i in range(0,data.shape[1]):\n",
    "        try:\n",
    "            maximum[i] = describe_max(data,i)\n",
    "        except ZeroDivisionError: \n",
    "            maximum[i] = 0\n",
    "\n",
    "    perc_25 = np.zeros(data.shape[1])\n",
    "    for i in range(0,data.shape[1]):\n",
    "        try:\n",
    "            perc_25[i] = describe_perc25(data,i)\n",
    "        except ZeroDivisionError: \n",
    "            perc_25[i] = 0\n",
    "\n",
    "    perc_50 = np.zeros(data.shape[1])\n",
    "    for i in range(0,data.shape[1]):\n",
    "        try:\n",
    "            perc_50[i] = describe_perc50(data,i)\n",
    "        except ZeroDivisionError: \n",
    "            perc_50[i] = 0\n",
    "\n",
    "    perc_75 = np.zeros(data.shape[1])\n",
    "    for i in range(0,data.shape[1]):\n",
    "        try:\n",
    "            perc_75[i] = describe_perc75(data,i)\n",
    "        except ZeroDivisionError: \n",
    "            perc_75[i] = 0\n",
    "    \n",
    "    info = np.concatenate(([mean], [count], [std],[minimum],[maximum],[perc_25],[perc_50],[perc_75]), axis=0)\n",
    "    info = np.round_(info, decimals=2)\n",
    "\n",
    "    features= list()\n",
    "    for i in range(1,len(data[1])+1):\n",
    "        features.append('Feature'+str(i))\n",
    "\n",
    "    counter = len(data[0])\n",
    "    numberofprints = 0\n",
    "\n",
    "    while counter >0:\n",
    "        if counter >4:\n",
    "            numberofprints += 4\n",
    "            print('\\t''%10s ' %(features[numberofprints-4:numberofprints]))\n",
    "            row_labels= ['MEAN', \"COUNT\" ,\"STD\" ,\"MIN\" ,\"MAXIMUM\" ,\"PERC_25\" ,\"PERC_50\", \"PERC_75\"]\n",
    "            for row_label, row in zip(row_labels[0:8], info[:,numberofprints-4:numberofprints]):\n",
    "                print('%07s [%s]' % (row_label, ' '.join('%10s' % i for i in row)))\n",
    "            counter += -4\n",
    "        else:\n",
    "            numberofprints +=counter\n",
    "            print('\\t''%10s ' %(features[numberofprints-counter:numberofprints]))\n",
    "            row_labels= ['MEAN', \"COUNT\" ,\"STD\" ,\"MIN\" ,\"MAXIMUM\" ,\"PERC_25\" ,\"PERC_50\", \"PERC_75\"]\n",
    "            for row_label, row in zip(row_labels[0:8], info[:,numberofprints-counter:numberofprints]):\n",
    "                print('%07s [%s]' % (row_label, ' '.join('%10s' % i for i in row)))\n",
    "            counter += -counter"
   ]
  },
  {
   "cell_type": "code",
   "execution_count": null,
   "metadata": {},
   "outputs": [],
   "source": [
    "path = \"resources/dataset_train.csv\"\n",
    "\n",
    "data = np.genfromtxt(path, delimiter=',', skip_header=1)\n",
    "describe_function(data)"
   ]
  },
  {
   "cell_type": "markdown",
   "metadata": {},
   "source": [
    "# Data Visualisation V2 "
   ]
  },
  {
   "cell_type": "markdown",
   "metadata": {},
   "source": [
    "Q2 Make a histogram function which takes a dataset as input and outputs all the relevant histograms in order to answer the following question: Which Hogwarts course has a homogeneous score distribution between the four houses?"
   ]
  },
  {
   "cell_type": "markdown",
   "metadata": {},
   "source": [
    "## Histogram"
   ]
  },
  {
   "cell_type": "code",
   "execution_count": 6,
   "metadata": {},
   "outputs": [
    {
     "data": {
      "text/plain": [
       "<matplotlib.figure.Figure at 0x110a212e8>"
      ]
     },
     "metadata": {},
     "output_type": "display_data"
    },
    {
     "data": {
      "text/plain": [
       "<matplotlib.figure.Figure at 0x1147a5358>"
      ]
     },
     "metadata": {},
     "output_type": "display_data"
    },
    {
     "data": {
      "text/plain": [
       "<matplotlib.figure.Figure at 0x1101c8c88>"
      ]
     },
     "metadata": {},
     "output_type": "display_data"
    },
    {
     "data": {
      "text/plain": [
       "<matplotlib.figure.Figure at 0x114a40d30>"
      ]
     },
     "metadata": {},
     "output_type": "display_data"
    },
    {
     "data": {
      "text/plain": [
       "<matplotlib.figure.Figure at 0x114cea208>"
      ]
     },
     "metadata": {},
     "output_type": "display_data"
    },
    {
     "data": {
      "text/plain": [
       "<matplotlib.figure.Figure at 0x10f4a4c88>"
      ]
     },
     "metadata": {},
     "output_type": "display_data"
    },
    {
     "data": {
      "text/plain": [
       "<matplotlib.figure.Figure at 0x1144c1f28>"
      ]
     },
     "metadata": {},
     "output_type": "display_data"
    },
    {
     "data": {
      "text/plain": [
       "<matplotlib.figure.Figure at 0x114aea048>"
      ]
     },
     "metadata": {},
     "output_type": "display_data"
    },
    {
     "data": {
      "text/plain": [
       "<matplotlib.figure.Figure at 0x1149eda90>"
      ]
     },
     "metadata": {},
     "output_type": "display_data"
    },
    {
     "data": {
      "text/plain": [
       "<matplotlib.figure.Figure at 0x114cc0d30>"
      ]
     },
     "metadata": {},
     "output_type": "display_data"
    },
    {
     "data": {
      "text/plain": [
       "<matplotlib.figure.Figure at 0x1149692b0>"
      ]
     },
     "metadata": {},
     "output_type": "display_data"
    },
    {
     "data": {
      "text/plain": [
       "<matplotlib.figure.Figure at 0x10f48abe0>"
      ]
     },
     "metadata": {},
     "output_type": "display_data"
    },
    {
     "data": {
      "text/plain": [
       "<matplotlib.figure.Figure at 0x11486aef0>"
      ]
     },
     "metadata": {},
     "output_type": "display_data"
    }
   ],
   "source": [
    "import numpy as np\n",
    "import matplotlib.pyplot as plt\n",
    "import pandas as pd\n",
    "plt.style.use('seaborn-deep')\n",
    "\n",
    "train = pd.read_csv(\"resources/dataset_train.csv\")\n",
    "\n",
    "def histogram_function(train):\n",
    "    for i in range(6,train.shape[1]):\n",
    "        grif = train.loc[train[\"Hogwarts House\"] == \"Gryffindor\"]\n",
    "        slyth = train.loc[train[\"Hogwarts House\"] == \"Slytherin\"]\n",
    "        rav = train.loc[train[\"Hogwarts House\"] == \"Ravenclaw\"]\n",
    "        huff = train.loc[train[\"Hogwarts House\"] == \"Hufflepuff\"]\n",
    "\n",
    "        grif = grif.iloc[:,[i]].dropna().values\n",
    "        slyth = slyth.iloc[:,[i]].dropna().values\n",
    "        rav = rav.iloc[:,[i]].dropna().values\n",
    "        huff = huff.iloc[:,[i]].dropna().values\n",
    "\n",
    "        bin = np.linspace(min(train.iloc[:,[i]].values), max(train.iloc[:,[i]].values), 30)\n",
    "\n",
    "        plt.hist(grif,label=[\"Gryffindor\"], bins=bin, alpha =0.5)\n",
    "        plt.hist(slyth,label=[\"Slytherin\"], bins=bin, alpha =0.5)\n",
    "        plt.hist(rav,label=[\"Ravenclaw\"], bins=bin, alpha =0.5)\n",
    "        plt.hist(huff,label=[\"Hufflepuff\"], bins=bin, alpha =0.5)\n",
    "        plt.title(max(train.iloc[:,[i]]))\n",
    "        plt.legend(loc='upper right')\n",
    "        plt.show()\n",
    "        \n",
    "        \n",
    "histogram_function(train)"
   ]
  },
  {
   "cell_type": "markdown",
   "metadata": {},
   "source": [
    "# Scatterplot"
   ]
  },
  {
   "cell_type": "markdown",
   "metadata": {},
   "source": [
    "Q3. Make a function that takes a dataset as input and outputs a scatterplot which can answer the following question:\n",
    "What are the two features that are similar?"
   ]
  },
  {
   "cell_type": "code",
   "execution_count": 4,
   "metadata": {},
   "outputs": [
    {
     "ename": "SyntaxError",
     "evalue": "invalid syntax (<ipython-input-4-55c31240b3ec>, line 8)",
     "output_type": "error",
     "traceback": [
      "\u001b[0;36m  File \u001b[0;32m\"<ipython-input-4-55c31240b3ec>\"\u001b[0;36m, line \u001b[0;32m8\u001b[0m\n\u001b[0;31m    xcol =\u001b[0m\n\u001b[0m           ^\u001b[0m\n\u001b[0;31mSyntaxError\u001b[0m\u001b[0;31m:\u001b[0m invalid syntax\n"
     ]
    }
   ],
   "source": [
    "import numpy as np\n",
    "import matplotlib.pyplot as plt\n",
    "import pandas as pd\n",
    "plt.style.use('seaborn-deep')\n",
    "\n",
    "train = pd.read_csv(\"resources/dataset_train.csv\")\n",
    "i=6\n",
    "xcol = \n",
    "ycol = \n",
    "plt.scatter()\n",
    "\n",
    "grif1 = train.loc[train[\"Hogwarts House\"] == \"Gryffindor\"]\n",
    "slyth = train.loc[train[\"Hogwarts House\"] == \"Slytherin\"]\n",
    "rav = train.loc[train[\"Hogwarts House\"] == \"Ravenclaw\"]\n",
    "huff = train.loc[train[\"Hogwarts House\"] == \"Hufflepuff\"]\n",
    "\n",
    "grif = grif1.iloc[:,[i]].dropna().values\n",
    "grif2 = grif1.iloc[:,[7]].dropna().values\n",
    "slyth = slyth.iloc[:,[i]].dropna().values\n",
    "rav = rav.iloc[:,[i]].dropna().values\n",
    "huff = huff.iloc[:,[i]].dropna().values\n",
    "\n",
    "bin = np.linspace(min(train.iloc[:,[i]].values), max(train.iloc[:,[i]].values), 30)\n",
    "\n",
    "plt.scatter(grif,grif2,label=[\"Gryffindor\"], bins=bin, alpha =0.5)\n",
    "#plt.scatter(slyth,label=[\"Slytherin\"], bins=bin, alpha =0.5)\n",
    "#plt.scatter(rav,label=[\"Ravenclaw\"], bins=bin, alpha =0.5)\n",
    "#plt.scatter(huff,label=[\"Hufflepuff\"], bins=bin, alpha =0.5)\n",
    "plt.title(max(train.iloc[:,[i]]))\n",
    "plt.legend(loc='upper right')\n",
    "plt.show()\n",
    "        "
   ]
  },
  {
   "cell_type": "code",
   "execution_count": 8,
   "metadata": {},
   "outputs": [],
   "source": []
  },
  {
   "cell_type": "code",
   "execution_count": 9,
   "metadata": {},
   "outputs": [
    {
     "ename": "NameError",
     "evalue": "name 'scatter' is not defined",
     "output_type": "error",
     "traceback": [
      "\u001b[0;31m---------------------------------------------------------------------------\u001b[0m",
      "\u001b[0;31mNameError\u001b[0m                                 Traceback (most recent call last)",
      "\u001b[0;32m<ipython-input-9-585156b669de>\u001b[0m in \u001b[0;36m<module>\u001b[0;34m()\u001b[0m\n\u001b[1;32m      1\u001b[0m \u001b[0;34m\u001b[0m\u001b[0m\n\u001b[1;32m      2\u001b[0m \u001b[0mtrain\u001b[0m \u001b[0;34m=\u001b[0m \u001b[0mpd\u001b[0m\u001b[0;34m.\u001b[0m\u001b[0mread_csv\u001b[0m\u001b[0;34m(\u001b[0m\u001b[0;34m\"resources/dataset_train.csv\"\u001b[0m\u001b[0;34m)\u001b[0m\u001b[0;34m\u001b[0m\u001b[0m\n\u001b[0;32m----> 3\u001b[0;31m \u001b[0mscatter_plot\u001b[0m\u001b[0;34m(\u001b[0m\u001b[0mtrain\u001b[0m\u001b[0;34m,\u001b[0m \u001b[0;34m'Astronomy'\u001b[0m\u001b[0;34m,\u001b[0m \u001b[0;34m'Defense Against the Dark Arts'\u001b[0m\u001b[0;34m)\u001b[0m\u001b[0;34m\u001b[0m\u001b[0m\n\u001b[0m",
      "\u001b[0;32m<ipython-input-8-b7926045902e>\u001b[0m in \u001b[0;36mscatter_plot\u001b[0;34m(x_train, xcolumn, ycolumn)\u001b[0m\n\u001b[1;32m      6\u001b[0m     \u001b[0mdata\u001b[0m\u001b[0;34m[\u001b[0m\u001b[0;34m'House'\u001b[0m\u001b[0;34m]\u001b[0m \u001b[0;34m=\u001b[0m \u001b[0mx_train\u001b[0m\u001b[0;34m[\u001b[0m\u001b[0;34m'Hogwarts House'\u001b[0m\u001b[0;34m]\u001b[0m\u001b[0;34m\u001b[0m\u001b[0m\n\u001b[1;32m      7\u001b[0m     \u001b[0mcolors\u001b[0m \u001b[0;34m=\u001b[0m \u001b[0;34m{\u001b[0m\u001b[0;34m'Gryffindor'\u001b[0m\u001b[0;34m:\u001b[0m\u001b[0;34m'red'\u001b[0m\u001b[0;34m,\u001b[0m \u001b[0;34m'Hufflepuff'\u001b[0m\u001b[0;34m:\u001b[0m\u001b[0;34m'blue'\u001b[0m\u001b[0;34m,\u001b[0m \u001b[0;34m'Ravenclaw'\u001b[0m\u001b[0;34m:\u001b[0m\u001b[0;34m'green'\u001b[0m\u001b[0;34m,\u001b[0m \u001b[0;34m'Slytherin'\u001b[0m\u001b[0;34m:\u001b[0m\u001b[0;34m'black'\u001b[0m\u001b[0;34m}\u001b[0m\u001b[0;34m\u001b[0m\u001b[0m\n\u001b[0;32m----> 8\u001b[0;31m     \u001b[0mscatter\u001b[0m\u001b[0;34m(\u001b[0m\u001b[0mdata\u001b[0m\u001b[0;34m,\u001b[0m \u001b[0mxcolumn\u001b[0m\u001b[0;34m,\u001b[0m \u001b[0mycolumn\u001b[0m\u001b[0;34m)\u001b[0m\u001b[0;34m\u001b[0m\u001b[0m\n\u001b[0m",
      "\u001b[0;31mNameError\u001b[0m: name 'scatter' is not defined"
     ]
    }
   ],
   "source": []
  },
  {
   "cell_type": "code",
   "execution_count": null,
   "metadata": {},
   "outputs": [],
   "source": []
  }
 ],
 "metadata": {
  "kernelspec": {
   "display_name": "Python 3",
   "language": "python",
   "name": "python3"
  },
  "language_info": {
   "codemirror_mode": {
    "name": "ipython",
    "version": 3
   },
   "file_extension": ".py",
   "mimetype": "text/x-python",
   "name": "python",
   "nbconvert_exporter": "python",
   "pygments_lexer": "ipython3",
   "version": "3.6.6"
  }
 },
 "nbformat": 4,
 "nbformat_minor": 2
}
